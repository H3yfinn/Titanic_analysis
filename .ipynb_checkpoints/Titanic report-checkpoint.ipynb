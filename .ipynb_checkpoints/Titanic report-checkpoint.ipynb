{
 "cells": [
  {
   "cell_type": "markdown",
   "metadata": {},
   "source": [
    "Data Description\n",
    "\n",
    "Introduction:\n",
    "Aim:To performa data analysis on a sample Titanic dataset.\n",
    "\n",
    "This dataset contains demographics and passenger information from 891 of the 2224 passengers and crew on board the Titanic. You can see a description of this dataset on the Kaggle website, where the data was found (https://www.kaggle.com/c/titanic/data).\n",
    "\n",
    "\n",
    "Data analysis questions:\n",
    "\"One of the reasons that the shipwreck led to such loss of life was that there were not enough lifeboats for the passengers and crew. Although there was some element of luck involved in surviving the sinking, some groups of people were more likely to survive than others, such as women, children, and the upper-class.\" - https://www.kaggle.com/c/titanic\n",
    "\n",
    "I intend to produce a report showing my findings relating to the excerpt above. The questions I will ask, and cover are:\n",
    "-Was Passenger Class a factor in survival rate?\n",
    "-Were women and children more likely to make it onto a lifeboat and therefore survive?\n",
    "\n",
    "Following this I want to ask a question to satisfy my own curiosity:\n",
    "-Did age, regardless of sex, determine your chances of survival?\n",
    "\n",
    "This report will be produced based on the assumpiton that all survivors caught lifeboats instead of surviving by some other unknown or lucky measure.\n",
    "\n",
    "\n",
    "\n",
    "Lets get started!\n",
    "\n",
    "\n",
    "\n",
    "The dataset:\n",
    "\n",
    "(from https://www.kaggle.com/c/titanic)\n",
    "\n",
    "survival: Survival (0 = No; 1 = Yes)\n",
    "pclass: Passenger Class (1 = 1st; 2 = 2nd; 3 = 3rd)\n",
    "name: Name\n",
    "sex: Sex\n",
    "age: Age\n",
    "sibsp: Number of Siblings/Spouses Aboard\n",
    "parch: Number of Parents/Children Aboard\n",
    "ticket: Ticket Number\n",
    "fare: Passenger Fare\n",
    "cabin: Cabin\n",
    "embarked: Port of Embarkation (C = Cherbourg; Q = Queenstown; S = Southampton)\n",
    "\n",
    "Special Notes:\n",
    "Pclass is a proxy for socio-economic status (SES) 1st ~ Upper; 2nd ~ Middle; 3rd ~ Lower\n",
    "Age is in Years; Fractional if Age less than One (1) If the Age is Estimated, it is in the form xx.5\n",
    "With respect to the family relation variables (i.e. sibsp and parch) some relations were ignored. The following are the definitions used for sibsp and parch.\n",
    "Sibling: Brother, Sister, Stepbrother, or Stepsister of Passenger Aboard Titanic\n",
    "Spouse: Husband or Wife of Passenger Aboard Titanic (Mistresses and Fiances Ignored)\n",
    "Parent: Mother or Father of Passenger Aboard Titanic\n",
    "Child: Son, Daughter, Stepson, or Stepdaughter of Passenger Aboard Titanic\n",
    "\n",
    "Other family relatives excluded from this study include cousins, nephews/nieces, aunts/uncles, and in-laws. Some children travelled only with a nanny, therefore parch=0 for them. As well, some travelled with very close friends or neighbors in a village, however, the definitions do not support such relations.\n",
    "\n",
    "Data Preview:"
   ]
  },
  {
   "cell_type": "code",
   "execution_count": 16,
   "metadata": {
    "collapsed": false
   },
   "outputs": [
    {
     "data": {
      "text/html": [
       "<div>\n",
       "<table border=\"1\" class=\"dataframe\">\n",
       "  <thead>\n",
       "    <tr style=\"text-align: right;\">\n",
       "      <th></th>\n",
       "      <th>PassengerId</th>\n",
       "      <th>Survived</th>\n",
       "      <th>Pclass</th>\n",
       "      <th>Name</th>\n",
       "      <th>Sex</th>\n",
       "      <th>Age</th>\n",
       "      <th>SibSp</th>\n",
       "      <th>Parch</th>\n",
       "      <th>Ticket</th>\n",
       "      <th>Fare</th>\n",
       "      <th>Cabin</th>\n",
       "      <th>Embarked</th>\n",
       "    </tr>\n",
       "  </thead>\n",
       "  <tbody>\n",
       "    <tr>\n",
       "      <th>0</th>\n",
       "      <td>1</td>\n",
       "      <td>0</td>\n",
       "      <td>3</td>\n",
       "      <td>Braund, Mr. Owen Harris</td>\n",
       "      <td>male</td>\n",
       "      <td>22.0</td>\n",
       "      <td>1</td>\n",
       "      <td>0</td>\n",
       "      <td>A/5 21171</td>\n",
       "      <td>7.2500</td>\n",
       "      <td>NaN</td>\n",
       "      <td>S</td>\n",
       "    </tr>\n",
       "    <tr>\n",
       "      <th>1</th>\n",
       "      <td>2</td>\n",
       "      <td>1</td>\n",
       "      <td>1</td>\n",
       "      <td>Cumings, Mrs. John Bradley (Florence Briggs Th...</td>\n",
       "      <td>female</td>\n",
       "      <td>38.0</td>\n",
       "      <td>1</td>\n",
       "      <td>0</td>\n",
       "      <td>PC 17599</td>\n",
       "      <td>71.2833</td>\n",
       "      <td>C85</td>\n",
       "      <td>C</td>\n",
       "    </tr>\n",
       "    <tr>\n",
       "      <th>2</th>\n",
       "      <td>3</td>\n",
       "      <td>1</td>\n",
       "      <td>3</td>\n",
       "      <td>Heikkinen, Miss. Laina</td>\n",
       "      <td>female</td>\n",
       "      <td>26.0</td>\n",
       "      <td>0</td>\n",
       "      <td>0</td>\n",
       "      <td>STON/O2. 3101282</td>\n",
       "      <td>7.9250</td>\n",
       "      <td>NaN</td>\n",
       "      <td>S</td>\n",
       "    </tr>\n",
       "    <tr>\n",
       "      <th>3</th>\n",
       "      <td>4</td>\n",
       "      <td>1</td>\n",
       "      <td>1</td>\n",
       "      <td>Futrelle, Mrs. Jacques Heath (Lily May Peel)</td>\n",
       "      <td>female</td>\n",
       "      <td>35.0</td>\n",
       "      <td>1</td>\n",
       "      <td>0</td>\n",
       "      <td>113803</td>\n",
       "      <td>53.1000</td>\n",
       "      <td>C123</td>\n",
       "      <td>S</td>\n",
       "    </tr>\n",
       "    <tr>\n",
       "      <th>4</th>\n",
       "      <td>5</td>\n",
       "      <td>0</td>\n",
       "      <td>3</td>\n",
       "      <td>Allen, Mr. William Henry</td>\n",
       "      <td>male</td>\n",
       "      <td>35.0</td>\n",
       "      <td>0</td>\n",
       "      <td>0</td>\n",
       "      <td>373450</td>\n",
       "      <td>8.0500</td>\n",
       "      <td>NaN</td>\n",
       "      <td>S</td>\n",
       "    </tr>\n",
       "  </tbody>\n",
       "</table>\n",
       "</div>"
      ],
      "text/plain": [
       "   PassengerId  Survived  Pclass  \\\n",
       "0            1         0       3   \n",
       "1            2         1       1   \n",
       "2            3         1       3   \n",
       "3            4         1       1   \n",
       "4            5         0       3   \n",
       "\n",
       "                                                Name     Sex   Age  SibSp  \\\n",
       "0                            Braund, Mr. Owen Harris    male  22.0      1   \n",
       "1  Cumings, Mrs. John Bradley (Florence Briggs Th...  female  38.0      1   \n",
       "2                             Heikkinen, Miss. Laina  female  26.0      0   \n",
       "3       Futrelle, Mrs. Jacques Heath (Lily May Peel)  female  35.0      1   \n",
       "4                           Allen, Mr. William Henry    male  35.0      0   \n",
       "\n",
       "   Parch            Ticket     Fare Cabin Embarked  \n",
       "0      0         A/5 21171   7.2500   NaN        S  \n",
       "1      0          PC 17599  71.2833   C85        C  \n",
       "2      0  STON/O2. 3101282   7.9250   NaN        S  \n",
       "3      0            113803  53.1000  C123        S  \n",
       "4      0            373450   8.0500   NaN        S  "
      ]
     },
     "execution_count": 16,
     "metadata": {},
     "output_type": "execute_result"
    }
   ],
   "source": [
    "import matplotlib.pyplot as plt\n",
    "import numpy as np\n",
    "import pandas as pd \n",
    "import seaborn as sns\n",
    "import scipy as sp\n",
    "\n",
    "titanic_file = ('C:\\Users\\O\\'l Mate\\udacity\\\\titanic\\\\titanic_data.csv') #would be nice to learn why i need double slashes before titanic\n",
    "titanic_df = pd.read_csv(titanic_file)\n",
    "titanic_df.head()"
   ]
  },
  {
   "cell_type": "code",
   "execution_count": 4,
   "metadata": {
    "collapsed": false
   },
   "outputs": [
    {
     "data": {
      "text/html": [
       "<div>\n",
       "<table border=\"1\" class=\"dataframe\">\n",
       "  <thead>\n",
       "    <tr style=\"text-align: right;\">\n",
       "      <th></th>\n",
       "      <th>PassengerId</th>\n",
       "      <th>Survived</th>\n",
       "      <th>Pclass</th>\n",
       "      <th>Name</th>\n",
       "      <th>Sex</th>\n",
       "      <th>Age</th>\n",
       "      <th>SibSp</th>\n",
       "      <th>Parch</th>\n",
       "      <th>Ticket</th>\n",
       "      <th>Fare</th>\n",
       "      <th>Cabin</th>\n",
       "      <th>Embarked</th>\n",
       "    </tr>\n",
       "  </thead>\n",
       "  <tbody>\n",
       "    <tr>\n",
       "      <th>886</th>\n",
       "      <td>887</td>\n",
       "      <td>0</td>\n",
       "      <td>2</td>\n",
       "      <td>Montvila, Rev. Juozas</td>\n",
       "      <td>male</td>\n",
       "      <td>27.0</td>\n",
       "      <td>0</td>\n",
       "      <td>0</td>\n",
       "      <td>211536</td>\n",
       "      <td>13.00</td>\n",
       "      <td>NaN</td>\n",
       "      <td>S</td>\n",
       "    </tr>\n",
       "    <tr>\n",
       "      <th>887</th>\n",
       "      <td>888</td>\n",
       "      <td>1</td>\n",
       "      <td>1</td>\n",
       "      <td>Graham, Miss. Margaret Edith</td>\n",
       "      <td>female</td>\n",
       "      <td>19.0</td>\n",
       "      <td>0</td>\n",
       "      <td>0</td>\n",
       "      <td>112053</td>\n",
       "      <td>30.00</td>\n",
       "      <td>B42</td>\n",
       "      <td>S</td>\n",
       "    </tr>\n",
       "    <tr>\n",
       "      <th>888</th>\n",
       "      <td>889</td>\n",
       "      <td>0</td>\n",
       "      <td>3</td>\n",
       "      <td>Johnston, Miss. Catherine Helen \"Carrie\"</td>\n",
       "      <td>female</td>\n",
       "      <td>NaN</td>\n",
       "      <td>1</td>\n",
       "      <td>2</td>\n",
       "      <td>W./C. 6607</td>\n",
       "      <td>23.45</td>\n",
       "      <td>NaN</td>\n",
       "      <td>S</td>\n",
       "    </tr>\n",
       "    <tr>\n",
       "      <th>889</th>\n",
       "      <td>890</td>\n",
       "      <td>1</td>\n",
       "      <td>1</td>\n",
       "      <td>Behr, Mr. Karl Howell</td>\n",
       "      <td>male</td>\n",
       "      <td>26.0</td>\n",
       "      <td>0</td>\n",
       "      <td>0</td>\n",
       "      <td>111369</td>\n",
       "      <td>30.00</td>\n",
       "      <td>C148</td>\n",
       "      <td>C</td>\n",
       "    </tr>\n",
       "    <tr>\n",
       "      <th>890</th>\n",
       "      <td>891</td>\n",
       "      <td>0</td>\n",
       "      <td>3</td>\n",
       "      <td>Dooley, Mr. Patrick</td>\n",
       "      <td>male</td>\n",
       "      <td>32.0</td>\n",
       "      <td>0</td>\n",
       "      <td>0</td>\n",
       "      <td>370376</td>\n",
       "      <td>7.75</td>\n",
       "      <td>NaN</td>\n",
       "      <td>Q</td>\n",
       "    </tr>\n",
       "  </tbody>\n",
       "</table>\n",
       "</div>"
      ],
      "text/plain": [
       "     PassengerId  Survived  Pclass                                      Name  \\\n",
       "886          887         0       2                     Montvila, Rev. Juozas   \n",
       "887          888         1       1              Graham, Miss. Margaret Edith   \n",
       "888          889         0       3  Johnston, Miss. Catherine Helen \"Carrie\"   \n",
       "889          890         1       1                     Behr, Mr. Karl Howell   \n",
       "890          891         0       3                       Dooley, Mr. Patrick   \n",
       "\n",
       "        Sex   Age  SibSp  Parch      Ticket   Fare Cabin Embarked  \n",
       "886    male  27.0      0      0      211536  13.00   NaN        S  \n",
       "887  female  19.0      0      0      112053  30.00   B42        S  \n",
       "888  female   NaN      1      2  W./C. 6607  23.45   NaN        S  \n",
       "889    male  26.0      0      0      111369  30.00  C148        C  \n",
       "890    male  32.0      0      0      370376   7.75   NaN        Q  "
      ]
     },
     "execution_count": 4,
     "metadata": {},
     "output_type": "execute_result"
    }
   ],
   "source": [
    "titanic_df.tail()"
   ]
  },
  {
   "cell_type": "markdown",
   "metadata": {},
   "source": [
    "From the previews of the data above we can see there are a few NaN values in the columns Age and Cabin. We don't know how many other columns may have be like this and also how many NaN values there are. Let's have a look:\n"
   ]
  },
  {
   "cell_type": "code",
   "execution_count": 5,
   "metadata": {
    "collapsed": false
   },
   "outputs": [
    {
     "data": {
      "text/plain": [
       "PassengerId      0\n",
       "Survived         0\n",
       "Pclass           0\n",
       "Name             0\n",
       "Sex              0\n",
       "Age            177\n",
       "SibSp            0\n",
       "Parch            0\n",
       "Ticket           0\n",
       "Fare             0\n",
       "Cabin          687\n",
       "Embarked         2\n",
       "dtype: int64"
      ]
     },
     "execution_count": 5,
     "metadata": {},
     "output_type": "execute_result"
    }
   ],
   "source": [
    "titanic_df.isnull().sum()\n",
    "\n"
   ]
  },
  {
   "cell_type": "markdown",
   "metadata": {},
   "source": [
    "It appears that the majority of values in the cabin column are NaN's so working with that column will produce less accurate statistics. I won't work with the cabin's column to prevent it and any findings from it from affecting my analysis."
   ]
  },
  {
   "cell_type": "markdown",
   "metadata": {},
   "source": [
    "With regards to my question, 'Did age, regardless of sex, determine your chances of survival?', I will need to take into account the NaN values for the age column. Since there are 177 of them any statistics about age could be inaccurate. This is because the lack of age's could all be linked. For example the age values may not have been recorded for most of the younger passengers (reason unknown). Therefore when analysing descriptive satistics on the age column a degree of inaccuracy must be taken into account.\n",
    "\n",
    "Next we will check for any duplicated passenger entries:"
   ]
  },
  {
   "cell_type": "code",
   "execution_count": 6,
   "metadata": {
    "collapsed": false
   },
   "outputs": [
    {
     "name": "stdout",
     "output_type": "stream",
     "text": [
      "Number of duplicate entries: 0\n"
     ]
    }
   ],
   "source": [
    "# Identify and remove duplicate entries\n",
    "titanic_duplicates = titanic_df.duplicated()\n",
    "print 'Number of duplicate entries: {}'.format(titanic_duplicates.sum())"
   ]
  },
  {
   "cell_type": "markdown",
   "metadata": {},
   "source": [
    "Lastly I want to get rid of the fare, sib sp, ticket, PassengerId, Name and embarked columns. This is because these columns aren't related to the questions I've asked.\n",
    "\n"
   ]
  },
  {
   "cell_type": "code",
   "execution_count": 22,
   "metadata": {
    "collapsed": false
   },
   "outputs": [],
   "source": [
    "titanic_df = titanic_df.drop(['PassengerId','Name','Ticket','Cabin','Fare','Embarked', 'SibSp'], axis=1)"
   ]
  },
  {
   "cell_type": "markdown",
   "metadata": {
    "collapsed": true
   },
   "source": [
    "Data Exploration:\n",
    "\n",
    "Now we get into the good stuff!\n",
    "In this section the data will be explored using descriptive statistics to analyse whether any obvious patterns or problems are present.\n",
    "\n",
    "\n"
   ]
  },
  {
   "cell_type": "code",
   "execution_count": 23,
   "metadata": {
    "collapsed": false
   },
   "outputs": [
    {
     "data": {
      "text/html": [
       "<div>\n",
       "<table border=\"1\" class=\"dataframe\">\n",
       "  <thead>\n",
       "    <tr style=\"text-align: right;\">\n",
       "      <th></th>\n",
       "      <th>Survived</th>\n",
       "      <th>Pclass</th>\n",
       "      <th>Age</th>\n",
       "      <th>Parch</th>\n",
       "    </tr>\n",
       "  </thead>\n",
       "  <tbody>\n",
       "    <tr>\n",
       "      <th>count</th>\n",
       "      <td>891.000000</td>\n",
       "      <td>891.000000</td>\n",
       "      <td>714.000000</td>\n",
       "      <td>891.000000</td>\n",
       "    </tr>\n",
       "    <tr>\n",
       "      <th>mean</th>\n",
       "      <td>0.383838</td>\n",
       "      <td>2.308642</td>\n",
       "      <td>29.699118</td>\n",
       "      <td>0.381594</td>\n",
       "    </tr>\n",
       "    <tr>\n",
       "      <th>std</th>\n",
       "      <td>0.486592</td>\n",
       "      <td>0.836071</td>\n",
       "      <td>14.526497</td>\n",
       "      <td>0.806057</td>\n",
       "    </tr>\n",
       "    <tr>\n",
       "      <th>min</th>\n",
       "      <td>0.000000</td>\n",
       "      <td>1.000000</td>\n",
       "      <td>0.420000</td>\n",
       "      <td>0.000000</td>\n",
       "    </tr>\n",
       "    <tr>\n",
       "      <th>25%</th>\n",
       "      <td>0.000000</td>\n",
       "      <td>2.000000</td>\n",
       "      <td>NaN</td>\n",
       "      <td>0.000000</td>\n",
       "    </tr>\n",
       "    <tr>\n",
       "      <th>50%</th>\n",
       "      <td>0.000000</td>\n",
       "      <td>3.000000</td>\n",
       "      <td>NaN</td>\n",
       "      <td>0.000000</td>\n",
       "    </tr>\n",
       "    <tr>\n",
       "      <th>75%</th>\n",
       "      <td>1.000000</td>\n",
       "      <td>3.000000</td>\n",
       "      <td>NaN</td>\n",
       "      <td>0.000000</td>\n",
       "    </tr>\n",
       "    <tr>\n",
       "      <th>max</th>\n",
       "      <td>1.000000</td>\n",
       "      <td>3.000000</td>\n",
       "      <td>80.000000</td>\n",
       "      <td>6.000000</td>\n",
       "    </tr>\n",
       "  </tbody>\n",
       "</table>\n",
       "</div>"
      ],
      "text/plain": [
       "         Survived      Pclass         Age       Parch\n",
       "count  891.000000  891.000000  714.000000  891.000000\n",
       "mean     0.383838    2.308642   29.699118    0.381594\n",
       "std      0.486592    0.836071   14.526497    0.806057\n",
       "min      0.000000    1.000000    0.420000    0.000000\n",
       "25%      0.000000    2.000000         NaN    0.000000\n",
       "50%      0.000000    3.000000         NaN    0.000000\n",
       "75%      1.000000    3.000000         NaN    0.000000\n",
       "max      1.000000    3.000000   80.000000    6.000000"
      ]
     },
     "execution_count": 23,
     "metadata": {},
     "output_type": "execute_result"
    }
   ],
   "source": [
    "titanic_df.describe()"
   ]
  },
  {
   "cell_type": "markdown",
   "metadata": {},
   "source": [
    "From the stats above we can see that the Pclass has an average of 2.3, age has an average of 29.7 and the mean number of survived is equal to the % that survived(which is what we want given that survived are denoted 1 and non-survived denoted 0). This is what we'd expect the data to be for each column, suggesting that it is an accurate dataset. \n",
    "\n",
    "Last thing in the data exploration phase is to find the proportion of passengers who survived vs. those who didnt. (A very important stat)."
   ]
  },
  {
   "cell_type": "code",
   "execution_count": 35,
   "metadata": {
    "collapsed": false
   },
   "outputs": [
    {
     "name": "stdout",
     "output_type": "stream",
     "text": [
      "891\n",
      "342\n",
      "549\n"
     ]
    }
   ],
   "source": [
    "print passengers\n",
    "print survivors\n",
    "print non_survivors"
   ]
  },
  {
   "cell_type": "code",
   "execution_count": 37,
   "metadata": {
    "collapsed": false
   },
   "outputs": [
    {
     "name": "stdout",
     "output_type": "stream",
     "text": [
      "The number of people who survived was 342, which is 38.38%\n",
      "The number of people who didn't survive was 549, which is 61.62%\n"
     ]
    }
   ],
   "source": [
    "passengers = titanic_df['Survived'].count()\n",
    "survivors = titanic_df['Survived'].sum()\n",
    "non_survivors = passengers - survivors\n",
    "\n",
    "def find_proportion(val, total):\n",
    "    return (float(val) /passengers)*100\n",
    "\n",
    "p_surv = find_proportion(survivors, passengers)\n",
    "p_non_surv = find_proportion(non_survivors, passengers)\n",
    "\n",
    "print 'The number of people who survived was {}, which is {:.2f}%'.format(survivors, p_surv)\n",
    "print 'The number of people who didn\\'t survive was {}, which is {:.2f}%'.format(non_survivors, p_non_surv)"
   ]
  },
  {
   "cell_type": "markdown",
   "metadata": {},
   "source": [
    "\n",
    "Questions:\n",
    "\n",
    "Were women and children more likely to make it onto a lifeboat and therefore survive?\n",
    "\n",
    "To answer this quetsion we need to classify what exactly a woman and a child is. Since the data does not do this for us, lets assume children are those aged 18 and below. Therefore women are females above 18 and men, males above 18."
   ]
  },
  {
   "cell_type": "code",
   "execution_count": 69,
   "metadata": {
    "collapsed": false
   },
   "outputs": [
    {
     "name": "stdout",
     "output_type": "stream",
     "text": [
      "Category  Survived\n",
      "Child     0            13\n",
      "          1            31\n",
      "Man       0           352\n",
      "          1            78\n",
      "Woman     0            59\n",
      "          1           181\n",
      "dtype: int64\n"
     ]
    },
    {
     "data": {
      "text/plain": [
       "<seaborn.axisgrid.FacetGrid at 0xd8c3630>"
      ]
     },
     "execution_count": 69,
     "metadata": {},
     "output_type": "execute_result"
    },
    {
     "data": {
      "image/png": "[encoded data removed]",
      "text/plain": [
       "<matplotlib.figure.Figure at 0xf3ea128>"
      ]
     },
     "metadata": {},
     "output_type": "display_data"
    }
   ],
   "source": [
    "%matplotlib inline\n",
    "titanic_df.loc[\n",
    "    (titanic_df['Age'] <= 15),\n",
    "    'Category'] = 'Child'\n",
    "\n",
    "titanic_df.loc[\n",
    "    ((titanic_df['Age'] > 15) & (titanic_df['Sex'] == 'female')),\n",
    "    'Category'] = 'Woman'\n",
    "\n",
    "\n",
    "titanic_df.loc[\n",
    "    ((titanic_df['Age'] > 15) & (titanic_df['Sex'] == 'male')),\n",
    "    'Category'] = 'Man'\n",
    "\n",
    "graphy = sns.factorplot('Survived', col='Category', data=titanic_df, kind='count')\n",
    "\n",
    "(graphy.set_axis_labels('Suvivors', 'Number of Passengers')\n",
    "    .set_xticklabels(['False', 'True'])\n",
    "    .set_titles(\"{col_name}\")\n",
    ")"
   ]
  },
  {
   "cell_type": "markdown",
   "metadata": {
    "collapsed": true
   },
   "source": [
    "As shown above, the majority of those who survived were female and if you were a female you were more likely to survive. This suggests that my question 'Were women and children more likely to make it onto a lifeboat and therefore survive?' was correct for women. \n",
    "\n",
    "Now to look at children. It seems if you were a child there would be a half chance of surviving. While this isn't 'likely', it is a lot more likely than the graph shows it would be for men. From this we can conclude that yes children were more likely to survive. \n",
    "It is interetsting that more children didn't survive, especially compared to the survival rates for women. Perhaps this was because the older children (>15) were considered as adults in the disaster. However, as shown below, there is only a small increase in the survival rates for children if their age classification is changed to <=15. One reason for this could be the lack of strength, composure and hardiness of the children, increasing the likeliness they'd die in any disaster like the Titanic's one. "
   ]
  },
  {
   "cell_type": "code",
   "execution_count": 161,
   "metadata": {
    "collapsed": false
   },
   "outputs": [
    {
     "name": "stdout",
     "output_type": "stream",
     "text": [
      "Category  Survived\n",
      "Child     0            34\n",
      "          1            49\n",
      "Man       0           341\n",
      "          1            72\n",
      "Woman     0            49\n",
      "          1           169\n",
      "dtype: int64\n"
     ]
    },
    {
     "data": {
      "text/plain": [
       "<matplotlib.text.Text at 0x19174c88>"
      ]
     },
     "execution_count": 161,
     "metadata": {},
     "output_type": "execute_result"
    },
    {
     "data": {
      "image/png": "[encoded data removed]",
      "text/plain": [
       "<matplotlib.figure.Figure at 0x19366eb8>"
      ]
     },
     "metadata": {},
     "output_type": "display_data"
    }
   ],
   "source": [
    "titanic_df.loc[\n",
    "    (titanic_df['Age'] <= 15),\n",
    "    'Category'] = 'Child'\n",
    "\n",
    "titanic_df.loc[\n",
    "    ((titanic_df['Age'] > 15) & (titanic_df['Sex'] == 'female')),\n",
    "    'Category'] = 'Woman'\n",
    "\n",
    "\n",
    "titanic_df.loc[\n",
    "    ((titanic_df['Age'] > 15) & (titanic_df['Sex'] == 'male')),\n",
    "    'Category'] = 'Man'\n",
    "\n",
    "\n",
    "x = titanic_df.groupby(['Category', 'Survived']).size()\n",
    "\n",
    "print x\n",
    "\n",
    "graphy = sns.factorplot('Survived', col='Category', data=titanic_df, kind='count')\n",
    "\n",
    "(graphy.set_axis_labels('Suvivors', 'Number of Passengers')\n",
    "    .set_xticklabels(['False', 'True'])\n",
    "    .set_titles(\"{col_name}\")\n",
    ")\n",
    "graphy.fig.suptitle('Survival rates for women, men and children')"
   ]
  },
  {
   "cell_type": "markdown",
   "metadata": {},
   "source": [
    "Question 3:\n",
    "\n",
    "Did age, regardless of sex, determine your chances of survival?"
   ]
  },
  {
   "cell_type": "code",
   "execution_count": 137,
   "metadata": {
    "collapsed": false
   },
   "outputs": [
    {
     "data": {
      "text/plain": [
       "<matplotlib.text.Text at 0x1548fba8>"
      ]
     },
     "execution_count": 137,
     "metadata": {},
     "output_type": "execute_result"
    },
    {
     "data": {
      "image/png": "[encoded data removed]",
      "text/plain": [
       "<matplotlib.figure.Figure at 0x14ca2c50>"
      ]
     },
     "metadata": {},
     "output_type": "display_data"
    }
   ],
   "source": [
    "bin_int = [x*5 for x in range(0, 21)]\n",
    "\n",
    "non_null_df = titanic_df.dropna()\n",
    "Non_survivors = non_null_df.query('Survived==0')\n",
    "Non_survivors = Non_survivors['Age']\n",
    "\n",
    "\n",
    "nsurv_g = sns.distplot(Non_survivors, hist='True')\n",
    "nsurv_g.axes.set_title('Non-survivors age distribution')\n"
   ]
  },
  {
   "cell_type": "code",
   "execution_count": 185,
   "metadata": {
    "collapsed": false
   },
   "outputs": [
    {
     "data": {
      "text/plain": [
       "<matplotlib.text.Text at 0x1a170a58>"
      ]
     },
     "execution_count": 185,
     "metadata": {},
     "output_type": "execute_result"
    },
    {
     "data": {
      "image/png": "[encoded data removed]",
      "text/plain": [
       "<matplotlib.figure.Figure at 0x1a1dceb8>"
      ]
     },
     "metadata": {},
     "output_type": "display_data"
    },
    {
     "data": {
      "image/png": "[encoded data removed]",
      "text/plain": [
       "<matplotlib.figure.Figure at 0x23eecef0>"
      ]
     },
     "metadata": {},
     "output_type": "display_data"
    }
   ],
   "source": [
    "Survivors = non_null_df.query('Survived==1')\n",
    "Survivors = Survivors['Age']\n",
    "\n",
    "surv_g = sns.distplot(Survivors, hist='True')\n",
    "surv_g.axes.set_title('Survivors age distribution')\n",
    "\n",
    "x = sns.factorplot(x='Survived', y='Age', hue='Sex', data=non_null_df, kind='box')\n",
    "(x.set_axis_labels('Suvivors', 'Age of Passengers')\n",
    "    .set_xticklabels([\"False\", \"True\"])\n",
    ")\n",
    "x.fig.suptitle('Distribution of ages for survivors and non_survivors of both sexes in the Titanic Disaster')\n"
   ]
  },
  {
   "cell_type": "markdown",
   "metadata": {},
   "source": [
    "As shown in the probability density histograms, survival rates among different age groups were about the same. The histograms show that the only age group which may have been more likely to survive was those 5 years and under. This could be because those 5 years and under could be carried onto life-rafts with their parent and taken up less space. - Unfortuanetly there is no way we can determine if this was true. This is because while we can find which children that survived had parents, we can't tell that their parents survived so can't assume the baby caught the lifeboat with their parent/s. Furthermore, the children with no parents were stated to have had nannies and there is definitely no way of finding if they survived with the children they were caring for. \n",
    "\n",
    "The boxplot shows the mean age for both sexes and both those who survived vs didn't was very similar, around 29, which was the mean age on the boat. Furthermore, the interquartile spread for all the boxplots was similar.\n",
    "\n",
    "From the graphs we can conclude that age didn't affect chances of survival, unless you were 5 years or under."
   ]
  },
  {
   "cell_type": "markdown",
   "metadata": {},
   "source": [
    "Was Passenger Class a factor in survival rate?"
   ]
  },
  {
   "cell_type": "code",
   "execution_count": 184,
   "metadata": {
    "collapsed": false
   },
   "outputs": [
    {
     "name": "stdout",
     "output_type": "stream",
     "text": [
      "216\n",
      "Class 1 survival rate: 62.96%\n",
      "Class 2 survival rate: 47.28%\n",
      "Class 3 survival rate: 24.24%\n"
     ]
    },
    {
     "data": {
      "text/plain": [
       "<matplotlib.text.Text at 0x2247d198>"
      ]
     },
     "execution_count": 184,
     "metadata": {},
     "output_type": "execute_result"
    },
    {
     "data": {
      "image/png": "[encoded data removed]",
      "text/plain": [
       "<matplotlib.figure.Figure at 0x20345668>"
      ]
     },
     "metadata": {},
     "output_type": "display_data"
    }
   ],
   "source": [
    "p_class = titanic_df.groupby(['Pclass', 'Survived']).size()\n",
    "\n",
    "print p_class\n",
    "\n",
    "def survival_rate(num, num2):\n",
    "    x = float(p_class[num, num2]) / p_class[num].sum()\n",
    "    return x *100\n",
    "\n",
    "print 'Class 1 survival rate: {:.2f}%'.format(survival_rate(1, 1))\n",
    "print 'Class 2 survival rate: {:.2f}%'.format(survival_rate(2, 1))\n",
    "print 'Class 3 survival rate: {:.2f}%'.format(survival_rate(3, 1))\n",
    "   \n",
    "g = sns.factorplot('Survived', col='Pclass', data=titanic_df, kind='count')\n",
    "\n",
    "(g.set_axis_labels('Suvivors', 'Number of Passengers')\n",
    "    .set_xticklabels(['False', 'True'])\n",
    "    .set_titles(\"{col_name}\")\n",
    ")\n",
    "g.fig.suptitle('Survival rates for differnt Passenger classes')\n"
   ]
  },
  {
   "cell_type": "markdown",
   "metadata": {},
   "source": [
    "From the above we can see that passenger class was a factor in survival rates. If you were from Passenger class 1 you had a 62.96% chance of surviving vs a %47.28 chance of surviving if you were in 2nd class and an even lower %24.24 chance if you were in 3rd class. This suggests that being in a more expensive class was safer. This could have been because of cabin position or even priority when it came to lifeboats (we see this in the movie, Titanic, 1997).\n",
    "\n"
   ]
  },
  {
   "cell_type": "markdown",
   "metadata": {
    "collapsed": false
   },
   "source": [
    "Conclusion:\n",
    "From the analysis we can make a provisional conclusion. The results suggest that class and sex were factors in survival rates during the Titanic Disaster. Generally, if you were a woman with a first class ticket you were the most likely to survive. This is down to unknown reasons but we can explore suggestions such as priorities with the lifeboats. Children under 5 were also more likely than the majority of passengers to survive. Finally, if you were a man in 3rd class you were very unlikely to survive.\n",
    "\n",
    "Issues:\n",
    "177 passengers did not have Age data and were removed from all age calculations. This could have skewed some numbers.\n",
    " The category of 'child' was assumed to be anyone under the age of 18 or 15. This may not have been what children were considered during the 1900s.\n",
    "\n"
   ]
  }
 ],
 "metadata": {
  "anaconda-cloud": {},
  "kernelspec": {
   "display_name": "Python [conda root]",
   "language": "python",
   "name": "conda-root-py"
  },
  "language_info": {
   "codemirror_mode": {
    "name": "ipython",
    "version": 2
   },
   "file_extension": ".py",
   "mimetype": "text/x-python",
   "name": "python",
   "nbconvert_exporter": "python",
   "pygments_lexer": "ipython2",
   "version": "2.7.12"
  }
 },
 "nbformat": 4,
 "nbformat_minor": 1
}
